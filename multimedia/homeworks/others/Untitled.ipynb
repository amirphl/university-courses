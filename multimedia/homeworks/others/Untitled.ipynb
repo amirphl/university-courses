{
 "cells": [
  {
   "cell_type": "markdown",
   "metadata": {},
   "source": [
    "# Question 1"
   ]
  },
  {
   "cell_type": "code",
   "execution_count": 175,
   "metadata": {},
   "outputs": [],
   "source": [
    "from PIL import Image\n",
    "\n",
    "image = Image.open(r\"test.jpg\")#.convert(\"RGB\")\n",
    "\n",
    "mapping = list(map(lambda x: int(x[0]*.33 + x[1]*.33 + x[2]*.33), list(image.getdata())))\n",
    "\n",
    "Greyscale_img = Image.new(\"L\", (image.size[0], image.size[1]), 255)\n",
    "\n",
    "Greyscale_img.putdata(mapping)\n",
    "\n",
    "Greyscale_img.save('gray.jpg')"
   ]
  },
  {
   "cell_type": "code",
   "execution_count": 60,
   "metadata": {},
   "outputs": [],
   "source": [
    "import numpy as np\n",
    "import cv2\n",
    "im = cv2.imread(\"test.jpg\")\n",
    "gray = (im[:, :, 0] * 0.33 + im[:, :, 1] * 0.33 + im[:, :, 2] * 0.33).astype(int)\n",
    "\n",
    "bitmap = np.zeros(gray.shape, dtype=int)\n",
    "index = np.where(gray >= 128)\n",
    "bitmap[index[0], index[1]] = 255\n",
    "\n",
    "from PIL import Image\n",
    "\n",
    "img = Image.fromarray(bitmap).convert('1')\n",
    "img.save('1-bit.bmp')\n"
   ]
  },
  {
   "cell_type": "code",
   "execution_count": 63,
   "metadata": {},
   "outputs": [],
   "source": [
    "def image_dither(path, black='#000000', white='#ffffff'):\n",
    "    image_rgb = read_image(path)\n",
    "    image_gray = grayscale(image_rgb)\n",
    "    image_bw = floyd_steinberg(image_gray)\n",
    "    plot(layout([[\n",
    "        plot(image_gray, palette=gray(256)),\n",
    "        plot(image_bw, palette=[black, white])        \n",
    "    ]]))\n",
    "def floyd_steinberg(image):\n",
    "    image = image.copy()\n",
    "    distribution = np.array([7, 3, 5, 1], dtype=float) / 16\n",
    "    u = np.array([0, 1, 1, 1])\n",
    "    v = np.array([1, -1, 0, 1])\n",
    "    \n",
    "    for y in range(image.shape[0] - 1):\n",
    "        for x in range(image.shape[1] - 1):\n",
    "            value = np.round(image[y, x])\n",
    "            error = image[y, x] - value\n",
    "            image[y, x] = value\n",
    "            image[y + u, x + v] += error * distribution\n",
    "            \n",
    "    image[:, -1] = 1\n",
    "    image[-1, :] = 1\n",
    "    return image\n",
    "def grayscale(image):\n",
    "    height, width, _ = image.shape\n",
    "    \n",
    "    image = np.array(image, dtype=np.float32) / 255\n",
    "    image = image[:, :, 0] * .21 + \\\n",
    "            image[:, :, 1] * .72 + \\\n",
    "            image[:, :, 2] * .07\n",
    "    \n",
    "    return image.reshape(height, width)\n",
    "def read_image(path, size=400):\n",
    "    if path.startswith('https://'):\n",
    "        image = Image.open(get(path, stream=True).raw)\n",
    "    else:\n",
    "        image = Image.open(path)\n",
    "    \n",
    "    width, height = image.size\n",
    "    width, height = size, int(size * height / width)\n",
    "    image = image.resize((width, height), Image.ANTIALIAS)\n",
    "    \n",
    "    data = image.getdata()\n",
    "    assert data.bands in [3, 4], 'RGB or RGBA image is required'\n",
    "    \n",
    "    raw = np.array(data, dtype=np.uint8)\n",
    "    return raw.reshape(height, width, data.bands)\n",
    "def plot(image, palette):\n",
    "    y, x = image.shape\n",
    "    plot = figure(x_range=(0, x), y_range=(0, y), \n",
    "                  plot_width=x, plot_height=y)\n",
    "    plot.axis.visible = False\n",
    "    plot.toolbar_location = None\n",
    "    plot.min_border = 0\n",
    "    plot.image([np.flipud(image)], x=0, y=0, dw=x, dh=y,\n",
    "               palette=palette)\n",
    "    \n",
    "    return plot"
   ]
  },
  {
   "cell_type": "code",
   "execution_count": 64,
   "metadata": {},
   "outputs": [
    {
     "ename": "NameError",
     "evalue": "name 'layout' is not defined",
     "output_type": "error",
     "traceback": [
      "\u001b[1;31m---------------------------------------------------------------------------\u001b[0m",
      "\u001b[1;31mNameError\u001b[0m                                 Traceback (most recent call last)",
      "\u001b[1;32m<ipython-input-64-73aca5a30411>\u001b[0m in \u001b[0;36m<module>\u001b[1;34m\u001b[0m\n\u001b[1;32m----> 1\u001b[1;33m \u001b[0mimage_dither\u001b[0m\u001b[1;33m(\u001b[0m\u001b[1;34m'test.jpg'\u001b[0m\u001b[1;33m)\u001b[0m\u001b[1;33m\u001b[0m\u001b[1;33m\u001b[0m\u001b[0m\n\u001b[0m",
      "\u001b[1;32m<ipython-input-63-d098a91d18cc>\u001b[0m in \u001b[0;36mimage_dither\u001b[1;34m(path, black, white)\u001b[0m\n\u001b[0;32m      3\u001b[0m     \u001b[0mimage_gray\u001b[0m \u001b[1;33m=\u001b[0m \u001b[0mgrayscale\u001b[0m\u001b[1;33m(\u001b[0m\u001b[0mimage_rgb\u001b[0m\u001b[1;33m)\u001b[0m\u001b[1;33m\u001b[0m\u001b[1;33m\u001b[0m\u001b[0m\n\u001b[0;32m      4\u001b[0m     \u001b[0mimage_bw\u001b[0m \u001b[1;33m=\u001b[0m \u001b[0mfloyd_steinberg\u001b[0m\u001b[1;33m(\u001b[0m\u001b[0mimage_gray\u001b[0m\u001b[1;33m)\u001b[0m\u001b[1;33m\u001b[0m\u001b[1;33m\u001b[0m\u001b[0m\n\u001b[1;32m----> 5\u001b[1;33m     plot(layout([[\n\u001b[0m\u001b[0;32m      6\u001b[0m         \u001b[0mplot\u001b[0m\u001b[1;33m(\u001b[0m\u001b[0mimage_gray\u001b[0m\u001b[1;33m,\u001b[0m \u001b[0mpalette\u001b[0m\u001b[1;33m=\u001b[0m\u001b[0mgray\u001b[0m\u001b[1;33m(\u001b[0m\u001b[1;36m256\u001b[0m\u001b[1;33m)\u001b[0m\u001b[1;33m)\u001b[0m\u001b[1;33m,\u001b[0m\u001b[1;33m\u001b[0m\u001b[1;33m\u001b[0m\u001b[0m\n\u001b[0;32m      7\u001b[0m         \u001b[0mplot\u001b[0m\u001b[1;33m(\u001b[0m\u001b[0mimage_bw\u001b[0m\u001b[1;33m,\u001b[0m \u001b[0mpalette\u001b[0m\u001b[1;33m=\u001b[0m\u001b[1;33m[\u001b[0m\u001b[0mblack\u001b[0m\u001b[1;33m,\u001b[0m \u001b[0mwhite\u001b[0m\u001b[1;33m]\u001b[0m\u001b[1;33m)\u001b[0m\u001b[1;33m\u001b[0m\u001b[1;33m\u001b[0m\u001b[0m\n",
      "\u001b[1;31mNameError\u001b[0m: name 'layout' is not defined"
     ]
    }
   ],
   "source": [
    "image_dither('test.jpg')"
   ]
  },
  {
   "cell_type": "code",
   "execution_count": 208,
   "metadata": {},
   "outputs": [
    {
     "data": {
      "image/png": "[encoded data removed]",
      "text/plain": [
       "<Figure size 576x576 with 2 Axes>"
      ]
     },
     "metadata": {
      "needs_background": "light"
     },
     "output_type": "display_data"
    }
   ],
   "source": [
    "from PIL import Image\n",
    "import numpy as np\n",
    "import cv2\n",
    "\n",
    "def floyd_steinberg(path):\n",
    "    image = cv2.imread(path)\n",
    "    image_with_error = image.copy()\n",
    "    image_without_error = image.copy()\n",
    "    distribution = np.array([7, 3, 5, 1], dtype=float) / 16\n",
    "    u = np.array([0, 1, 1, 1])\n",
    "    v = np.array([1, -1, 0, 1])\n",
    "    \n",
    "    for y in range(image.shape[0] - 1):\n",
    "        for x in range(image.shape[1] - 1):\n",
    "            old_color = image[y, x]\n",
    "            new_color = findClosestPaletteColor(old_color)\n",
    "#             value = np.round(image[y, x])\n",
    "            error = old_color - new_color\n",
    "            image_with_error[y, x] = new_color\n",
    "            image_without_error[y, x] = new_color\n",
    "            image_with_error[y + u, x + v] += (error * distribution[:, np.newaxis]).astype(np.uint8)\n",
    "    return image_with_error, image_without_error\n",
    "                \n",
    "def findClosestPaletteColor(old_pixel):\n",
    "        pallete = np.array([0, 64, 128, 192])\n",
    "        diff = abs(old_pixel - pallete[:, np.newaxis])\n",
    "        return pallete[np.argmin(diff, axis=0)]\n",
    "        \n",
    "        \n",
    "        \n",
    "with_error, without_error = floyd_steinberg('test.jpg')\n",
    "\n",
    "\n",
    "# img1 = np.random.randint(10, size=(20, 20))\n",
    "# img2 = np.random.randint(10, size=(20, 20))\n",
    "import matplotlib.pyplot as plt\n",
    "\n",
    "fig=plt.figure(figsize=(8, 8))\n",
    "fig.add_subplot(1, 2, 1)\n",
    "plt.imshow(with_error)\n",
    "plt.imsave('with_error.jpg', with_error)\n",
    "fig.add_subplot(1, 2, 2)\n",
    "plt.imshow(without_error)\n",
    "plt.imsave('without_error.jpg', without_error)\n",
    "plt.show()\n",
    "\n",
    "\n",
    "\n",
    "\n",
    "\n",
    "\n",
    "# img = Image.fromarray(floyd_steinberg('test.jpg'), 'RGB')\n",
    "# img.show()\n",
    "# img.save('output2-3.jpg')\n",
    "\n",
    "        \n",
    "        "
   ]
  },
  {
   "cell_type": "code",
   "execution_count": 209,
   "metadata": {},
   "outputs": [
    {
     "data": {
      "image/png": "[encoded data removed]",
      "text/plain": [
       "<Figure size 432x288 with 1 Axes>"
      ]
     },
     "metadata": {
      "needs_background": "light"
     },
     "output_type": "display_data"
    }
   ],
   "source": [
    "import cv2\n",
    "import numpy as np\n",
    "from matplotlib import pyplot as plt\n",
    "\n",
    "img = cv2.imread('test.jpg')\n",
    "color = ('b','g','r')\n",
    "for i,col in enumerate(color):\n",
    "    histr = cv2.calcHist([img],[i],None,[256],[0,256])\n",
    "    plt.plot(histr,color = col)\n",
    "    plt.xlim([0,256])\n",
    "plt.show()"
   ]
  },
  {
   "cell_type": "code",
   "execution_count": 254,
   "metadata": {},
   "outputs": [
    {
     "name": "stdout",
     "output_type": "stream",
     "text": [
      "(560164,)\n",
      "(560164,)\n",
      "(560164,)\n",
      "(560164,)\n",
      "(560164,)\n",
      "(560164,)\n",
      "(560164,)\n",
      "(560164,)\n"
     ]
    }
   ],
   "source": [
    "import cv2\n",
    "import numpy as np\n",
    "from matplotlib import pyplot as plt\n",
    "\n",
    "img = cv2.imread('test.jpg')\n",
    "\n",
    "num_bits_red = 3\n",
    "num_bits_green = 3\n",
    "num_bits_blue = 2\n",
    "\n",
    "\n",
    "red_channel = np.sort(img[:, :, 0].flatten())\n",
    "green_channel = np.sort(img[:, :, 1].flatten())\n",
    "blue_channel = np.sort(img[:, :, 2].flatten())\n",
    "    \n",
    "cuts = {}\n",
    "cuts['red'] = []\n",
    "cuts['blue'] = []\n",
    "cuts['green'] = []\n",
    "\n",
    "\n",
    "def median_cut(channel, channel_color, cuts, num_iterations, iteration)\n",
    "    median = np.median(channel)\n",
    "    cut = np.where(channel == median)[0][-1] + 1\n",
    "    first_part = channel[0: cut]\n",
    "    second_part = channel[cut: -1]\n",
    "    if iteration < num_iterations:\n",
    "        median_cut(first_part, channel_color, cuts, num_iterations, iteration + 1)\n",
    "        median_cut(second_part, channel_color, cuts, num_iterations, iteration + 1)\n",
    "    else:\n",
    "        cuts[channel_color].append(first_part)\n",
    "        cuts[channel_color].append(second_part)\n",
    "        \n",
    "median_cut(red_channel, 'red', cuts, 2 ** num_bits_red, 0)\n",
    "median_cut(green_channel, 'green', cuts, 2 ** num_bits_green, 0)\n",
    "median_cut(blue_channel, 'blue', cuts, 2 ** num_bits_blue, 0)\n",
    "\n",
    "# red\n",
    "for cut in cuts['red']:\n",
    "    img[np.where(img[:, :, 0] <= cut[-1] and 0 <= img[:, :, 0])]\n",
    "    \n"
   ]
  },
  {
   "cell_type": "code",
   "execution_count": 256,
   "metadata": {},
   "outputs": [
    {
     "data": {
      "text/plain": [
       "(array([0, 0, 0, 1, 1, 1, 2, 2, 2], dtype=int64),\n",
       " array([0, 1, 2, 0, 1, 2, 0, 1, 2], dtype=int64))"
      ]
     },
     "execution_count": 256,
     "metadata": {},
     "output_type": "execute_result"
    }
   ],
   "source": [
    "a = np.ones([3, 3, 3])\n",
    "np.where(a[:, :, 0] == 1)"
   ]
  },
  {
   "cell_type": "code",
   "execution_count": 136,
   "metadata": {},
   "outputs": [],
   "source": [
    "i = np.zeros([3,3,3])\n",
    "u = np.array([0, 0, 1, 1])\n",
    "v = np.array([1, 0, 0, 1])\n",
    "distribution = np.array([7, 3, 5, 1], dtype=float) / 16"
   ]
  },
  {
   "cell_type": "code",
   "execution_count": 137,
   "metadata": {},
   "outputs": [],
   "source": [
    "i[u, v] += b[:, np.newaxis]"
   ]
  },
  {
   "cell_type": "code",
   "execution_count": 138,
   "metadata": {},
   "outputs": [
    {
     "data": {
      "text/plain": [
       "array([[[ 64.,  64.,  64.],\n",
       "        [  1.,   1.,   1.],\n",
       "        [  0.,   0.,   0.]],\n",
       "\n",
       "       [[128., 128., 128.],\n",
       "        [192., 192., 192.],\n",
       "        [  0.,   0.,   0.]],\n",
       "\n",
       "       [[  0.,   0.,   0.],\n",
       "        [  0.,   0.,   0.],\n",
       "        [  0.,   0.,   0.]]])"
      ]
     },
     "execution_count": 138,
     "metadata": {},
     "output_type": "execute_result"
    }
   ],
   "source": [
    "i"
   ]
  },
  {
   "cell_type": "code",
   "execution_count": 192,
   "metadata": {},
   "outputs": [],
   "source": [
    "a = np.array([1,191,3])\n",
    "b = np.array([1, 64, 128, 192])"
   ]
  },
  {
   "cell_type": "code",
   "execution_count": 194,
   "metadata": {},
   "outputs": [
    {
     "data": {
      "text/plain": [
       "array([  1, 192,   1])"
      ]
     },
     "execution_count": 194,
     "metadata": {},
     "output_type": "execute_result"
    }
   ],
   "source": [
    "c = abs(a - b[:, np.newaxis])\n",
    "b[np.argmin(c, axis = 0)]"
   ]
  },
  {
   "cell_type": "code",
   "execution_count": 92,
   "metadata": {},
   "outputs": [
    {
     "data": {
      "text/plain": [
       "array([1, 2, 3])"
      ]
     },
     "execution_count": 92,
     "metadata": {},
     "output_type": "execute_result"
    }
   ],
   "source": [
    "np.min(c, axis = 0)"
   ]
  },
  {
   "cell_type": "code",
   "execution_count": null,
   "metadata": {},
   "outputs": [],
   "source": []
  }
 ],
 "metadata": {
  "kernelspec": {
   "display_name": "Python 3",
   "language": "python",
   "name": "python3"
  },
  "language_info": {
   "codemirror_mode": {
    "name": "ipython",
    "version": 3
   },
   "file_extension": ".py",
   "mimetype": "text/x-python",
   "name": "python",
   "nbconvert_exporter": "python",
   "pygments_lexer": "ipython3",
   "version": "3.7.3"
  }
 },
 "nbformat": 4,
 "nbformat_minor": 2
}
